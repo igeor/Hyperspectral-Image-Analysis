{
 "cells": [
  {
   "cell_type": "code",
   "execution_count": 16,
   "id": "b7772c25",
   "metadata": {},
   "outputs": [],
   "source": [
    "from torch.utils.data.dataset import Dataset\n",
    "from torch.utils.data import DataLoader\n",
    "import h5py\n",
    "import numpy as np\n",
    "import torch\n",
    "import torch.nn as nn\n",
    "from math import sqrt\n",
    "import matplotlib.pyplot as plt\n",
    "%matplotlib qt "
   ]
  },
  {
   "cell_type": "code",
   "execution_count": 17,
   "id": "5838ac39",
   "metadata": {},
   "outputs": [],
   "source": [
    "device = \"cpu\"\n",
    "if(torch.cuda.is_available()):\n",
    "    device = \"cuda\"; print('---device:cuda---')"
   ]
  },
  {
   "cell_type": "code",
   "execution_count": 18,
   "id": "138b5be9",
   "metadata": {},
   "outputs": [],
   "source": [
    "#dic with energies in eV of elements\n",
    "dic={ 'Ca':3692,'Mn':5900,'Fe':6405,'Cu':8046,'Au':9713,'Hg':9989,'Pb':10551,'Sr':14165}\n",
    "num_elements=len(dic)\n",
    "#load h5 cubes panagia, jesus and hand\n",
    "f = h5py.File('panagia1_mm.h5', 'r')\n",
    "dset=f['dataset']\n",
    "dEset=f['energies']\n",
    "spectra_p=np.array(dset)\n",
    "energies=np.array(dEset)\n",
    "f.close()\n",
    "\n",
    "f = h5py.File('christ.h5', 'r')\n",
    "dset=f['dataset']\n",
    "spectra_c=np.array(dset)\n",
    "f.close()\n",
    "\n",
    "f = h5py.File('hand.h5', 'r')\n",
    "dset=f['dataset']\n",
    "spectra_h=np.array(dset)\n",
    "f.close()\n",
    "\n"
   ]
  },
  {
   "cell_type": "code",
   "execution_count": 19,
   "id": "78c20639",
   "metadata": {},
   "outputs": [],
   "source": [
    "#set the number of channels to cut\n",
    "channels=100\n",
    "#dimensions of images\n",
    "rows_p=41\n",
    "cols_p=65\n",
    "rows_c=31\n",
    "cols_c=46\n",
    "rows_h=41\n",
    "cols_h=21\n",
    "\n",
    "#cut first #channels\n",
    "spectra_p = spectra_p.astype(np.float32)\n",
    "spectra_c = spectra_c.astype(np.float32)\n",
    "spectra_h = spectra_h.astype(np.float32)\n",
    "spectra_p=np.delete(spectra_p,np.s_[:channels],1)\n",
    "spectra_c=np.delete(spectra_c,np.s_[:channels],1)\n",
    "spectra_h=np.delete(spectra_h,np.s_[:channels],1)\n",
    "\n",
    "energies=np.delete(energies,np.s_[:channels])\n"
   ]
  },
  {
   "cell_type": "code",
   "execution_count": 20,
   "id": "676d8250",
   "metadata": {},
   "outputs": [],
   "source": [
    "#Full width at half maximum     \n",
    "def fwhm(ev):\n",
    "    return sqrt(2.47*ev+4400)"
   ]
  },
  {
   "cell_type": "code",
   "execution_count": 21,
   "id": "81d3c7e0",
   "metadata": {},
   "outputs": [],
   "source": [
    "X_p=torch.tensor(spectra_p)\n",
    "X_c=torch.tensor(spectra_c)\n",
    "X_h=torch.tensor(spectra_h)"
   ]
  },
  {
   "cell_type": "code",
   "execution_count": 22,
   "id": "266017fe",
   "metadata": {},
   "outputs": [],
   "source": [
    "#Calculate min and max channel of each elements in order to determine the range of interest\n",
    "key_list=list(dic.keys())\n",
    "min_ch=[]\n",
    "max_ch=[]\n",
    "min_roi_all=[]\n",
    "max_roi_all=[]\n",
    "for element in dic:\n",
    "    min_roi=(dic[element]-fwhm(dic[element])/2)\n",
    "    min_roi_all.append(min_roi)\n",
    "    max_roi=(dic[element]+fwhm(dic[element])/2)\n",
    "    max_roi_all.append(max_roi)\n",
    "    min_ch.append(int((min_roi+960)/20)-channels)\n",
    "    max_ch.append(int((max_roi+960)/20)-channels)\n",
    "\n",
    "#Create target vectors according to ROI\n",
    "y_p=np.zeros([len(spectra_p),num_elements])\n",
    "for i in range(len(spectra_p)):\n",
    "    for j in range(len(key_list)):\n",
    "        y_p[i][j]=np.sum(np.sum(spectra_p[i,min_ch[j]:max_ch[j]]))\n",
    "y_c=np.zeros([len(spectra_c),num_elements])\n",
    "for i in range(len(spectra_c)):\n",
    "    for j in range(len(key_list)):\n",
    "        y_c[i][j]=np.sum(np.sum(spectra_c[i,min_ch[j]:max_ch[j]]))\n",
    "y_h=np.zeros([len(spectra_h),num_elements])\n",
    "for i in range(len(spectra_h)):\n",
    "    for j in range(len(key_list)):\n",
    "        y_h[i][j]=np.sum(np.sum(spectra_h[i,min_ch[j]:max_ch[j]]))\n",
    "#convert target vectors to tensors\n",
    "y_p, y_c, y_h = torch.tensor(y_p), torch.tensor(y_c), torch.tensor(y_h)\n"
   ]
  },
  {
   "cell_type": "code",
   "execution_count": 23,
   "id": "f9324770",
   "metadata": {},
   "outputs": [],
   "source": [
    "class CustomDataset(Dataset):    \n",
    "    def __init__(self, XY_train, XY_test):\n",
    "        self.isTrain = True \n",
    "        self.X_train = XY_train[0]\n",
    "        self.y_train = XY_train[1]\n",
    "        self.X_test = XY_test[0]\n",
    "        self.y_test = XY_test[1]\n",
    "        \n",
    "    def setTrain(self,train):\n",
    "        self.isTrain = train\n",
    "\n",
    "    def __getitem__(self, index):\n",
    "        if(self.isTrain):\n",
    "            return self.X_train[index], self.y_train[index]\n",
    "        return self.X_test[index], self.y_test[index]\n",
    "    \n",
    "    def __len__(self):\n",
    "        if(self.isTrain):\n",
    "            return self.X_train.shape[0]\n",
    "        return self.X_test.shape[0]"
   ]
  },
  {
   "cell_type": "code",
   "execution_count": 24,
   "id": "f1f39e36",
   "metadata": {},
   "outputs": [],
   "source": [
    "# Hyper-parameters \n",
    "input_size = len(spectra_p[0])\n",
    "hidden_size = 100\n",
    "output_size = len(key_list)\n",
    "num_epochs = 100\n",
    "batch_size = 32\n",
    "learning_rate = 0.001\n",
    "shuffle=True"
   ]
  },
  {
   "cell_type": "code",
   "execution_count": 25,
   "id": "cdef52e9",
   "metadata": {},
   "outputs": [],
   "source": [
    "dataSet = CustomDataset(\n",
    "    (X_p, y_p), (X_c, y_c)\n",
    ")\n",
    "dataLoader = DataLoader(\n",
    "    dataset=dataSet, \n",
    "    batch_size=batch_size, \n",
    "    shuffle=shuffle\n",
    ")"
   ]
  },
  {
   "cell_type": "code",
   "execution_count": 26,
   "id": "17a7916e",
   "metadata": {},
   "outputs": [],
   "source": [
    "# Fully connected neural network with one hidden layer\n",
    "class NeuralNet(nn.Module):\n",
    "    def __init__(self, input_size, hidden_size, num_classes):\n",
    "        super(NeuralNet, self).__init__()\n",
    "        self.fc1 = nn.Linear(input_size, hidden_size) \n",
    "        self.relu = nn.ReLU()\n",
    "        self.fc2 = nn.Linear(hidden_size, output_size)  \n",
    "    \n",
    "    def forward(self, x):\n",
    "        out = self.fc1(x)\n",
    "        out = self.relu(out)\n",
    "        out = self.fc2(out)\n",
    "        return out"
   ]
  },
  {
   "cell_type": "code",
   "execution_count": 27,
   "id": "8e73f5b4",
   "metadata": {},
   "outputs": [],
   "source": [
    "model = NeuralNet(input_size, hidden_size, output_size).to(device)"
   ]
  },
  {
   "cell_type": "code",
   "execution_count": 28,
   "id": "55a15216",
   "metadata": {},
   "outputs": [],
   "source": [
    "optimizer = torch.optim.Adam(model.parameters(), lr=learning_rate)\n",
    "criterion = nn.MSELoss()"
   ]
  },
  {
   "cell_type": "code",
   "execution_count": 36,
   "id": "d0013adc",
   "metadata": {},
   "outputs": [],
   "source": [
    "for epoch in range(num_epochs):\n",
    "    ### TRAINING ### \n",
    "    dataSet.setTrain(True)\n",
    "    for idx, (x_in, y_in) in enumerate(dataLoader):\n",
    "        optimizer.zero_grad()\n",
    "        \n",
    "        x_in, y_in = x_in.to(device), y_in.to(device) \n",
    "        y_in = y_in.float()\n",
    "        # Forward pass\n",
    "        outputs = model(x_in)\n",
    "        loss = criterion(outputs, y_in)\n",
    "        \n",
    "        # Backward and optimize\n",
    "        loss.backward()\n",
    "        optimizer.step()\n",
    "        \n",
    "        \n",
    "    print (\"Epoch: \"+str(epoch+1)+\" -- Loss:\"+ str(loss.item()))"
   ]
  },
  {
   "cell_type": "code",
   "execution_count": 30,
   "id": "acbc14e2",
   "metadata": {},
   "outputs": [],
   "source": [
    "a=model(X_p).detach().numpy()"
   ]
  },
  {
   "cell_type": "code",
   "execution_count": 31,
   "id": "fb55c8c6",
   "metadata": {},
   "outputs": [],
   "source": [
    "a_c=a.reshape(rows_p,cols_p,8)"
   ]
  },
  {
   "cell_type": "code",
   "execution_count": 32,
   "id": "0aaf8c1b",
   "metadata": {},
   "outputs": [],
   "source": [
    "\n",
    "fig, ax = plt.subplots(nrows=2,ncols=4)\n",
    "fig.set_figheight(50)\n",
    "fig.set_figwidth(50)\n",
    "k=0\n",
    "for i in range(2):\n",
    "    for j in range(4):\n",
    "        ax[i][j].imshow(a_c[:,:,k])\n",
    "        ax[i][j].invert_yaxis()\n",
    "        ax[i][j].invert_xaxis()\n",
    "        ax[i][j].title.set_text(key_list[k])\n",
    "        k+=1"
   ]
  },
  {
   "cell_type": "code",
   "execution_count": 20,
   "id": "5d31e106",
   "metadata": {},
   "outputs": [],
   "source": [
    "#torch.save(model,'trained_model')"
   ]
  },
  {
   "cell_type": "code",
   "execution_count": 39,
   "id": "d15143bb",
   "metadata": {},
   "outputs": [
    {
     "data": {
      "text/plain": [
       "<matplotlib.legend.Legend at 0x1e6e4bf49d0>"
      ]
     },
     "execution_count": 39,
     "metadata": {},
     "output_type": "execute_result"
    }
   ],
   "source": [
    "\n",
    "y_detached=y_p.detach().numpy()\n",
    "fig, ax = plt.subplots(nrows=2,ncols=4)\n",
    "r=0\n",
    "c=0\n",
    "for el in range(len(key_list)):\n",
    "    min_el=np.min(y_detached[:,el])\n",
    "    max_el=np.max(y_detached[:,el])\n",
    "    #print(key_list[el],min_el,max_el)\n",
    "    step=(max_el-min_el)/50\n",
    "    limits=[x for x in np.arange(min_el,max_el,step)]\n",
    "    x_ax=[]\n",
    "    for x in range(len(limits)-1):\n",
    "        x_ax.append((limits[x]+limits[x+1])/2.)\n",
    "    counts=np.zeros(len(limits)-1)\n",
    "    counts_pr=np.zeros(len(limits)-1)\n",
    "    for i in range(len(y_detached)):\n",
    "        for k in range(len(counts)):\n",
    "            if y_detached[i,el]>=limits[k] and y_detached[i,el]<=limits[k+1] :\n",
    "                counts[k]+=1\n",
    "            if a[i,el]>=limits[k] and a[i,el]<=limits[k+1] :\n",
    "                counts_pr[k]+=1\n",
    "    ax[r][c].set_yscale('log')\n",
    "    ax[r][c].plot(x_ax,counts)\n",
    "    ax[r][c].plot(x_ax,counts_pr)\n",
    "    ax[r][c].title.set_text(key_list[el])\n",
    "    c+=1\n",
    "    if c==4:\n",
    "        c=0\n",
    "        r+=1\n",
    "fig.legend(['real','prediction'])"
   ]
  },
  {
   "cell_type": "code",
   "execution_count": null,
   "id": "a00e6bc2",
   "metadata": {},
   "outputs": [],
   "source": []
  }
 ],
 "metadata": {
  "kernelspec": {
   "display_name": "Python 3",
   "language": "python",
   "name": "python3"
  },
  "language_info": {
   "codemirror_mode": {
    "name": "ipython",
    "version": 3
   },
   "file_extension": ".py",
   "mimetype": "text/x-python",
   "name": "python",
   "nbconvert_exporter": "python",
   "pygments_lexer": "ipython3",
   "version": "3.8.10"
  }
 },
 "nbformat": 4,
 "nbformat_minor": 5
}
