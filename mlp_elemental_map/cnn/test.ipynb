{
 "cells": [
  {
   "cell_type": "code",
   "execution_count": 9,
   "metadata": {},
   "outputs": [],
   "source": [
    "import torch\n",
    "import torch.nn as nn\n",
    "import h5py\n",
    "import numpy as np\n",
    "import torchvision.transforms.functional as TF\n",
    "from torchvision.utils import save_image\n",
    "from PIL import Image\n",
    "from dataset import CustomDataset\n",
    "from math import sqrt\n",
    "from torch.utils.data import DataLoader\n",
    "from model import ConvModel\n",
    "import matplotlib.pyplot as plt "
   ]
  },
  {
   "cell_type": "code",
   "execution_count": 10,
   "metadata": {},
   "outputs": [
    {
     "data": {
      "text/plain": [
       "<All keys matched successfully>"
      ]
     },
     "execution_count": 10,
     "metadata": {},
     "output_type": "execute_result"
    }
   ],
   "source": [
    "model = ConvModel(in_channels=1, num_targets=8)\n",
    "model.load_state_dict(torch.load('./results/model.pt', map_location=torch.device('cpu')))"
   ]
  },
  {
   "cell_type": "code",
   "execution_count": 11,
   "metadata": {},
   "outputs": [],
   "source": [
    "#dic with energies of elements\n",
    "dic={ 'Ca':3692,'Mn':5900,'Fe':6405,'Cu':8046,'Au':9713,'Hg':9989,'Pb':10551,'Sr':14165}\n",
    "num_elements=len(dic)\n",
    "\n",
    "f = h5py.File('C:/Users/ioann/Documents/GitHub/Hyperspectral-Image-Analysis/data/panagia1_mm.h5', 'r')\n",
    "dset=f['dataset']\n",
    "dEset=f['energies']\n",
    "spectra_p=np.array(dset)\n",
    "energies=np.array(dEset)\n",
    "f.close()\n",
    "\n",
    "f = h5py.File('C:/Users/ioann/Documents/GitHub/Hyperspectral-Image-Analysis/data/christ.h5', 'r')\n",
    "dset=f['dataset']\n",
    "spectra_c=np.array(dset)\n",
    "f.close()\n",
    "\n",
    "f = h5py.File('C:/Users/ioann/Documents/GitHub/Hyperspectral-Image-Analysis/data/hand.h5', 'r')\n",
    "dset=f['dataset']\n",
    "spectra_h=np.array(dset)\n",
    "f.close()\n",
    "\n",
    "\n",
    "channels=100\n",
    "rows_p=41\n",
    "cols_p=65\n",
    "rows_c=31\n",
    "cols_c=46\n",
    "rows_h=41\n",
    "cols_h=21\n",
    "\n",
    "spectra_p = spectra_p.astype(np.float32)\n",
    "spectra_c = spectra_c.astype(np.float32)\n",
    "spectra_h = spectra_h.astype(np.float32)\n",
    "spectra_p=np.delete(spectra_p,np.s_[:channels],1)\n",
    "spectra_c=np.delete(spectra_c,np.s_[:channels],1)\n",
    "spectra_h=np.delete(spectra_h,np.s_[:channels],1)\n",
    "\n",
    "energies=np.delete(energies,np.s_[:channels])\n",
    "\n",
    "#roi function    \n",
    "def fwhm(ev):\n",
    "    #print(sqrt(2.47*ev+4400))\n",
    "    return sqrt(2.47*ev+4400)\n",
    "\n",
    "X_p=torch.tensor(spectra_p)\n",
    "X_c=torch.tensor(spectra_c)\n",
    "X_h=torch.tensor(spectra_h)\n",
    "\n",
    "\n",
    "key_list=list(dic.keys())\n",
    "min_ch=[]\n",
    "max_ch=[]\n",
    "min_roi_all=[]\n",
    "max_roi_all=[]\n",
    "for element in dic:\n",
    "    min_roi=(dic[element]-fwhm(dic[element])/2)\n",
    "    min_roi_all.append(min_roi)\n",
    "    max_roi=(dic[element]+fwhm(dic[element])/2)\n",
    "    max_roi_all.append(max_roi)\n",
    "    min_ch.append(int((min_roi+960)/20)-channels)\n",
    "    max_ch.append(int((max_roi+960)/20)-channels)\n",
    "\n",
    "\n",
    "y_p=np.zeros([len(spectra_p),num_elements])\n",
    "for i in range(len(spectra_p)):\n",
    "    for j in range(len(key_list)):\n",
    "        y_p[i][j]=np.sum(np.sum(spectra_p[i,min_ch[j]:max_ch[j]]))\n",
    "y_c=np.zeros([len(spectra_c),num_elements])\n",
    "for i in range(len(spectra_c)):\n",
    "    for j in range(len(key_list)):\n",
    "        y_c[i][j]=np.sum(np.sum(spectra_c[i,min_ch[j]:max_ch[j]]))\n",
    "y_h=np.zeros([len(spectra_h),num_elements])\n",
    "for i in range(len(spectra_h)):\n",
    "    for j in range(len(key_list)):\n",
    "        y_h[i][j]=np.sum(np.sum(spectra_h[i,min_ch[j]:max_ch[j]]))\n",
    "\n",
    "y_p, y_c, y_h = torch.tensor(y_p), torch.tensor(y_c), torch.tensor(y_h)"
   ]
  },
  {
   "cell_type": "code",
   "execution_count": 28,
   "metadata": {},
   "outputs": [
    {
     "name": "stdout",
     "output_type": "stream",
     "text": [
      "2665\n"
     ]
    }
   ],
   "source": [
    "\n",
    "\n",
    "dataSet = CustomDataset(\n",
    "    (X_p, y_p), (X_c, y_c)\n",
    ")\n",
    "\n",
    "dataLoader = DataLoader(\n",
    "    dataset=dataSet, \n",
    "    batch_size=32, \n",
    "    shuffle=False\n",
    ")\n",
    "\n",
    "model = ConvModel(in_channels=1, num_targets=8)\n",
    "optimizer = torch.optim.Adam(model.parameters(), lr=float(0.0002))\n",
    "\n",
    "dataSet.setTrain(True)\n",
    "\n",
    "spectra_list = list()\n",
    "\n",
    "for idx, (x_in, y_in) in enumerate(dataLoader):\n",
    "    \n",
    "    x_in = torch.reshape(x_in, (x_in.shape[0], 1, x_in.shape[1]))    \n",
    "\n",
    "    with torch.no_grad():\n",
    "        y_pred = model(x_in)\n",
    "        \n",
    "        for spectra in y_pred:\n",
    "            spectra_list.append(np.array(spectra))\n",
    "\n",
    "\n",
    "print(len(spectra_list))"
   ]
  },
  {
   "cell_type": "code",
   "execution_count": 29,
   "metadata": {},
   "outputs": [
    {
     "data": {
      "text/plain": [
       "8"
      ]
     },
     "execution_count": 29,
     "metadata": {},
     "output_type": "execute_result"
    }
   ],
   "source": [
    "len(spectra_list[0])"
   ]
  },
  {
   "cell_type": "code",
   "execution_count": 30,
   "metadata": {},
   "outputs": [],
   "source": [
    "spectra_list_arr=np.array(spectra_list)"
   ]
  },
  {
   "cell_type": "code",
   "execution_count": 31,
   "metadata": {},
   "outputs": [
    {
     "data": {
      "text/plain": [
       "(2665, 8)"
      ]
     },
     "execution_count": 31,
     "metadata": {},
     "output_type": "execute_result"
    }
   ],
   "source": [
    "spectra_list_arr.shape"
   ]
  },
  {
   "cell_type": "code",
   "execution_count": 33,
   "metadata": {},
   "outputs": [],
   "source": [
    "spectra_cube=spectra_list_arr.reshape(41,65,8)"
   ]
  },
  {
   "cell_type": "code",
   "execution_count": 41,
   "metadata": {},
   "outputs": [
    {
     "data": {
      "text/plain": [
       "<matplotlib.image.AxesImage at 0x2688c5a8130>"
      ]
     },
     "execution_count": 41,
     "metadata": {},
     "output_type": "execute_result"
    },
    {
     "data": {
      "image/png": "[encoded data removed]",
      "text/plain": [
       "<Figure size 432x288 with 1 Axes>"
      ]
     },
     "metadata": {
      "needs_background": "light"
     },
     "output_type": "display_data"
    }
   ],
   "source": [
    "plt.imshow(spectra_cube[:,:,3])"
   ]
  },
  {
   "cell_type": "code",
   "execution_count": null,
   "metadata": {},
   "outputs": [],
   "source": []
  }
 ],
 "metadata": {
  "interpreter": {
   "hash": "ea5b4247d6c7cda244ea30007fb25f3bb251da4e1f9effe2a3768bfb140f78bc"
  },
  "kernelspec": {
   "display_name": "Python 3.8.0 64-bit",
   "language": "python",
   "name": "python3"
  },
  "language_info": {
   "codemirror_mode": {
    "name": "ipython",
    "version": 3
   },
   "file_extension": ".py",
   "mimetype": "text/x-python",
   "name": "python",
   "nbconvert_exporter": "python",
   "pygments_lexer": "ipython3",
   "version": "3.8.0"
  },
  "orig_nbformat": 4
 },
 "nbformat": 4,
 "nbformat_minor": 2
}
